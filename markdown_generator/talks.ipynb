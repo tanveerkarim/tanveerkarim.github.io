{
 "cells": [
  {
   "attachments": {},
   "cell_type": "markdown",
   "metadata": {
    "deletable": true,
    "editable": true
   },
   "source": [
    "# Talks markdown generator for academicpages\n",
    "\n",
    "Takes a TSV of talks with metadata and converts them for use with [academicpages.github.io](academicpages.github.io). This is an interactive Jupyter notebook ([see more info here](http://jupyter-notebook-beginner-guide.readthedocs.io/en/latest/what_is_jupyter.html)). The core python code is also in `talks.py`. Run either from the `markdown_generator` folder after replacing `talks.tsv` with one containing your data.\n",
    "\n",
    "TODO: Make this work with BibTex and other databases, rather than Stuart's non-standard TSV format and citation style."
   ]
  },
  {
   "cell_type": "code",
   "execution_count": 1,
   "metadata": {
    "collapsed": false,
    "deletable": true,
    "editable": true
   },
   "outputs": [],
   "source": [
    "import pandas as pd\n",
    "import os"
   ]
  },
  {
   "attachments": {},
   "cell_type": "markdown",
   "metadata": {},
   "source": [
    "## Data format\n",
    "\n",
    "The TSV needs to have the following columns: title, type, url_slug, venue, date, location, talk_url, description, with a header at the top. Many of these fields can be blank, but the columns must be in the TSV.\n",
    "\n",
    "- Fields that cannot be blank: `title`, `url_slug`, `date`. All else can be blank. `type` defaults to \"Talk\" \n",
    "- `date` must be formatted as YYYY-MM-DD.\n",
    "- `url_slug` will be the descriptive part of the .md file and the permalink URL for the page about the paper. \n",
    "    - The .md file will be `YYYY-MM-DD-[url_slug].md` and the permalink will be `https://[yourdomain]/talks/YYYY-MM-DD-[url_slug]`\n",
    "    - The combination of `url_slug` and `date` must be unique, as it will be the basis for your filenames\n",
    "\n",
    "This is how the raw file looks (it doesn't look pretty, use a spreadsheet or other program to edit and create)."
   ]
  },
  {
   "cell_type": "code",
   "execution_count": 2,
   "metadata": {
    "collapsed": false
   },
   "outputs": [
    {
     "name": "stdout",
     "output_type": "stream",
     "text": [
      "title\ttype\turl_slug\tvenue\tdate\tlocation\ttalk_url\tdescription\n",
      "Probing the Growth of Structure with Emission-Line Galaxies     science-1   TASTY Lunch, University of Toronto  2024-02-06  Toronto, Canada\n",
      "Precision Cosmology with Emission-Line Galaxies Talk    science-1   AAS 243 2024-01-09  New Orleans, LA \n",
      "Constraining Cosmology with Emission-Line Galaxies\tTalk\tscience-1\tYale Cosmology Seminar\t2023-10-03\tNew Haven, CT\t\t\n",
      "Measuring the Growth of the Universe with Multiple Datasets\tTalk\toutreach-1\tMaria Mitchell Association\t2023-07-05\tNantucket, MA\t\t\n",
      "Model Minority myth and its impact on policymaking: A case study on Asian-Americans\tTalk\tdei-1\tEuropean Astronomical Society\t2022-07-01\tValencia, Spain\t\t\n",
      "Angular cross-correlation of Planck CMB lensing with DESI-like emission-line galaxies in Legacy Surveys\tTalk\tscience-2\tCarnegie Mellon University Cosmology Seminar\t2021-10-01\tPittsburgh, PA\t\t"
     ]
    }
   ],
   "source": [
    "!cat talks.tsv"
   ]
  },
  {
   "attachments": {},
   "cell_type": "markdown",
   "metadata": {},
   "source": [
    "## Import TSV\n",
    "\n",
    "Pandas makes this easy with the read_csv function. We are using a TSV, so we specify the separator as a tab, or `\\t`.\n",
    "\n",
    "I found it important to put this data in a tab-separated values format, because there are a lot of commas in this kind of data and comma-separated values can get messed up. However, you can modify the import statement, as pandas also has read_excel(), read_json(), and others."
   ]
  },
  {
   "cell_type": "code",
   "execution_count": 14,
   "metadata": {
    "collapsed": false,
    "deletable": true,
    "editable": true
   },
   "outputs": [
    {
     "data": {
      "text/html": [
       "<div>\n",
       "<style scoped>\n",
       "    .dataframe tbody tr th:only-of-type {\n",
       "        vertical-align: middle;\n",
       "    }\n",
       "\n",
       "    .dataframe tbody tr th {\n",
       "        vertical-align: top;\n",
       "    }\n",
       "\n",
       "    .dataframe thead th {\n",
       "        text-align: right;\n",
       "    }\n",
       "</style>\n",
       "<table border=\"1\" class=\"dataframe\">\n",
       "  <thead>\n",
       "    <tr style=\"text-align: right;\">\n",
       "      <th></th>\n",
       "      <th>title</th>\n",
       "      <th>type</th>\n",
       "      <th>url_slug</th>\n",
       "      <th>venue</th>\n",
       "      <th>date</th>\n",
       "      <th>location</th>\n",
       "      <th>talk_url</th>\n",
       "      <th>description</th>\n",
       "    </tr>\n",
       "  </thead>\n",
       "  <tbody>\n",
       "    <tr>\n",
       "      <th>0</th>\n",
       "      <td>Probing the Growth of Structure with Emission-...</td>\n",
       "      <td>Invited Talk</td>\n",
       "      <td>science-1</td>\n",
       "      <td>TASTY Seminar, University of Toronto</td>\n",
       "      <td>2024-02-06</td>\n",
       "      <td>Toronto, Canada</td>\n",
       "      <td>NaN</td>\n",
       "      <td>NaN</td>\n",
       "    </tr>\n",
       "    <tr>\n",
       "      <th>1</th>\n",
       "      <td>Precision Cosmology with Emission-Line Galaxies</td>\n",
       "      <td>Talk</td>\n",
       "      <td>science-1</td>\n",
       "      <td>AAS 243</td>\n",
       "      <td>2024-01-09</td>\n",
       "      <td>New Orleans, LA</td>\n",
       "      <td>NaN</td>\n",
       "      <td>NaN</td>\n",
       "    </tr>\n",
       "    <tr>\n",
       "      <th>2</th>\n",
       "      <td>Constraining Cosmology with Emission-Line Gala...</td>\n",
       "      <td>Invited Talk</td>\n",
       "      <td>science-1</td>\n",
       "      <td>Yale Cosmology Seminar</td>\n",
       "      <td>2023-10-03</td>\n",
       "      <td>New Haven, CT</td>\n",
       "      <td>NaN</td>\n",
       "      <td>NaN</td>\n",
       "    </tr>\n",
       "    <tr>\n",
       "      <th>3</th>\n",
       "      <td>Measuring the Growth of the Universe with Mult...</td>\n",
       "      <td>Invited Talk</td>\n",
       "      <td>outreach-1</td>\n",
       "      <td>Maria Mitchell Association</td>\n",
       "      <td>2023-07-05</td>\n",
       "      <td>Nantucket, MA</td>\n",
       "      <td>NaN</td>\n",
       "      <td>NaN</td>\n",
       "    </tr>\n",
       "    <tr>\n",
       "      <th>4</th>\n",
       "      <td>Model Minority myth and its impact on policyma...</td>\n",
       "      <td>Invited Talk</td>\n",
       "      <td>dei-1</td>\n",
       "      <td>European Astronomical Society</td>\n",
       "      <td>2022-07-01</td>\n",
       "      <td>Valencia, Spain</td>\n",
       "      <td>NaN</td>\n",
       "      <td>NaN</td>\n",
       "    </tr>\n",
       "    <tr>\n",
       "      <th>5</th>\n",
       "      <td>Angular cross-correlation of Planck CMB lensin...</td>\n",
       "      <td>Invited Talk</td>\n",
       "      <td>science-2</td>\n",
       "      <td>Carnegie Mellon University Cosmology Seminar</td>\n",
       "      <td>2021-10-01</td>\n",
       "      <td>Pittsburgh, PA</td>\n",
       "      <td>NaN</td>\n",
       "      <td>NaN</td>\n",
       "    </tr>\n",
       "  </tbody>\n",
       "</table>\n",
       "</div>"
      ],
      "text/plain": [
       "                                               title          type  \\\n",
       "0  Probing the Growth of Structure with Emission-...  Invited Talk   \n",
       "1    Precision Cosmology with Emission-Line Galaxies          Talk   \n",
       "2  Constraining Cosmology with Emission-Line Gala...  Invited Talk   \n",
       "3  Measuring the Growth of the Universe with Mult...  Invited Talk   \n",
       "4  Model Minority myth and its impact on policyma...  Invited Talk   \n",
       "5  Angular cross-correlation of Planck CMB lensin...  Invited Talk   \n",
       "\n",
       "     url_slug                                         venue        date  \\\n",
       "0   science-1          TASTY Seminar, University of Toronto  2024-02-06   \n",
       "1   science-1                                       AAS 243  2024-01-09   \n",
       "2   science-1                        Yale Cosmology Seminar  2023-10-03   \n",
       "3  outreach-1                    Maria Mitchell Association  2023-07-05   \n",
       "4       dei-1                 European Astronomical Society  2022-07-01   \n",
       "5   science-2  Carnegie Mellon University Cosmology Seminar  2021-10-01   \n",
       "\n",
       "          location  talk_url  description  \n",
       "0  Toronto, Canada       NaN          NaN  \n",
       "1  New Orleans, LA       NaN          NaN  \n",
       "2    New Haven, CT       NaN          NaN  \n",
       "3    Nantucket, MA       NaN          NaN  \n",
       "4  Valencia, Spain       NaN          NaN  \n",
       "5   Pittsburgh, PA       NaN          NaN  "
      ]
     },
     "execution_count": 14,
     "metadata": {},
     "output_type": "execute_result"
    }
   ],
   "source": [
    "talks = pd.read_csv(\"talks.tsv\", sep=\"\\t\", header=0)\n",
    "talks"
   ]
  },
  {
   "attachments": {},
   "cell_type": "markdown",
   "metadata": {},
   "source": [
    "## Escape special characters\n",
    "\n",
    "YAML is very picky about how it takes a valid string, so we are replacing single and double quotes (and ampersands) with their HTML encoded equivilents. This makes them look not so readable in raw format, but they are parsed and rendered nicely."
   ]
  },
  {
   "cell_type": "code",
   "execution_count": 15,
   "metadata": {
    "collapsed": false,
    "deletable": true,
    "editable": true
   },
   "outputs": [],
   "source": [
    "html_escape_table = {\n",
    "    \"&\": \"&amp;\",\n",
    "    '\"': \"&quot;\",\n",
    "    \"'\": \"&apos;\"\n",
    "    }\n",
    "\n",
    "def html_escape(text):\n",
    "    if type(text) is str:\n",
    "        return \"\".join(html_escape_table.get(c,c) for c in text)\n",
    "    else:\n",
    "        return \"False\""
   ]
  },
  {
   "attachments": {},
   "cell_type": "markdown",
   "metadata": {},
   "source": [
    "## Creating the markdown files\n",
    "\n",
    "This is where the heavy lifting is done. This loops through all the rows in the TSV dataframe, then starts to concatentate a big string (```md```) that contains the markdown for each type. It does the YAML metadata first, then does the description for the individual page."
   ]
  },
  {
   "cell_type": "code",
   "execution_count": 16,
   "metadata": {
    "collapsed": false,
    "deletable": true,
    "editable": true
   },
   "outputs": [],
   "source": [
    "loc_dict = {}\n",
    "\n",
    "for row, item in talks.iterrows():\n",
    "    \n",
    "    md_filename = str(item.date) + \"-\" + item.url_slug + \".md\"\n",
    "    html_filename = str(item.date) + \"-\" + item.url_slug \n",
    "    year = item.date[:4]\n",
    "    \n",
    "    md = \"---\\ntitle: \\\"\"   + item.title + '\"\\n'\n",
    "    md += \"collection: talks\" + \"\\n\"\n",
    "    \n",
    "    if len(str(item.type)) > 3:\n",
    "        md += 'type: \"' + item.type + '\"\\n'\n",
    "    else:\n",
    "        md += 'type: \"Talk\"\\n'\n",
    "    \n",
    "    md += \"permalink: /talks/\" + html_filename + \"\\n\"\n",
    "    \n",
    "    if len(str(item.venue)) > 3:\n",
    "        md += 'venue: \"' + item.venue + '\"\\n'\n",
    "        \n",
    "    if len(str(item.location)) > 3:\n",
    "        md += \"date: \" + str(item.date) + \"\\n\"\n",
    "    \n",
    "    if len(str(item.location)) > 3:\n",
    "        md += 'location: \"' + str(item.location) + '\"\\n'\n",
    "           \n",
    "    md += \"---\\n\"\n",
    "    \n",
    "    \n",
    "    if len(str(item.talk_url)) > 3:\n",
    "        md += \"\\n[More information here](\" + item.talk_url + \")\\n\" \n",
    "        \n",
    "    \n",
    "    if len(str(item.description)) > 3:\n",
    "        md += \"\\n\" + html_escape(item.description) + \"\\n\"\n",
    "        \n",
    "        \n",
    "    md_filename = os.path.basename(md_filename)\n",
    "    #print(md)\n",
    "    \n",
    "    with open(\"../_talks/\" + md_filename, 'w') as f:\n",
    "        f.write(md)"
   ]
  },
  {
   "cell_type": "code",
   "execution_count": 17,
   "metadata": {},
   "outputs": [
    {
     "data": {
      "text/html": [
       "<div>\n",
       "<style scoped>\n",
       "    .dataframe tbody tr th:only-of-type {\n",
       "        vertical-align: middle;\n",
       "    }\n",
       "\n",
       "    .dataframe tbody tr th {\n",
       "        vertical-align: top;\n",
       "    }\n",
       "\n",
       "    .dataframe thead th {\n",
       "        text-align: right;\n",
       "    }\n",
       "</style>\n",
       "<table border=\"1\" class=\"dataframe\">\n",
       "  <thead>\n",
       "    <tr style=\"text-align: right;\">\n",
       "      <th></th>\n",
       "      <th>title</th>\n",
       "      <th>type</th>\n",
       "      <th>url_slug</th>\n",
       "      <th>venue</th>\n",
       "      <th>date</th>\n",
       "      <th>location</th>\n",
       "      <th>talk_url</th>\n",
       "      <th>description</th>\n",
       "    </tr>\n",
       "  </thead>\n",
       "  <tbody>\n",
       "    <tr>\n",
       "      <th>0</th>\n",
       "      <td>Probing the Growth of Structure with Emission-...</td>\n",
       "      <td>Invited Talk</td>\n",
       "      <td>science-1</td>\n",
       "      <td>TASTY Seminar, University of Toronto</td>\n",
       "      <td>2024-02-06</td>\n",
       "      <td>Toronto, Canada</td>\n",
       "      <td>NaN</td>\n",
       "      <td>NaN</td>\n",
       "    </tr>\n",
       "    <tr>\n",
       "      <th>1</th>\n",
       "      <td>Precision Cosmology with Emission-Line Galaxies</td>\n",
       "      <td>Talk</td>\n",
       "      <td>science-1</td>\n",
       "      <td>AAS 243</td>\n",
       "      <td>2024-01-09</td>\n",
       "      <td>New Orleans, LA</td>\n",
       "      <td>NaN</td>\n",
       "      <td>NaN</td>\n",
       "    </tr>\n",
       "    <tr>\n",
       "      <th>2</th>\n",
       "      <td>Constraining Cosmology with Emission-Line Gala...</td>\n",
       "      <td>Invited Talk</td>\n",
       "      <td>science-1</td>\n",
       "      <td>Yale Cosmology Seminar</td>\n",
       "      <td>2023-10-03</td>\n",
       "      <td>New Haven, CT</td>\n",
       "      <td>NaN</td>\n",
       "      <td>NaN</td>\n",
       "    </tr>\n",
       "    <tr>\n",
       "      <th>3</th>\n",
       "      <td>Measuring the Growth of the Universe with Mult...</td>\n",
       "      <td>Invited Talk</td>\n",
       "      <td>outreach-1</td>\n",
       "      <td>Maria Mitchell Association</td>\n",
       "      <td>2023-07-05</td>\n",
       "      <td>Nantucket, MA</td>\n",
       "      <td>NaN</td>\n",
       "      <td>NaN</td>\n",
       "    </tr>\n",
       "    <tr>\n",
       "      <th>4</th>\n",
       "      <td>Model Minority myth and its impact on policyma...</td>\n",
       "      <td>Invited Talk</td>\n",
       "      <td>dei-1</td>\n",
       "      <td>European Astronomical Society</td>\n",
       "      <td>2022-07-01</td>\n",
       "      <td>Valencia, Spain</td>\n",
       "      <td>NaN</td>\n",
       "      <td>NaN</td>\n",
       "    </tr>\n",
       "    <tr>\n",
       "      <th>5</th>\n",
       "      <td>Angular cross-correlation of Planck CMB lensin...</td>\n",
       "      <td>Invited Talk</td>\n",
       "      <td>science-2</td>\n",
       "      <td>Carnegie Mellon University Cosmology Seminar</td>\n",
       "      <td>2021-10-01</td>\n",
       "      <td>Pittsburgh, PA</td>\n",
       "      <td>NaN</td>\n",
       "      <td>NaN</td>\n",
       "    </tr>\n",
       "  </tbody>\n",
       "</table>\n",
       "</div>"
      ],
      "text/plain": [
       "                                               title          type  \\\n",
       "0  Probing the Growth of Structure with Emission-...  Invited Talk   \n",
       "1    Precision Cosmology with Emission-Line Galaxies          Talk   \n",
       "2  Constraining Cosmology with Emission-Line Gala...  Invited Talk   \n",
       "3  Measuring the Growth of the Universe with Mult...  Invited Talk   \n",
       "4  Model Minority myth and its impact on policyma...  Invited Talk   \n",
       "5  Angular cross-correlation of Planck CMB lensin...  Invited Talk   \n",
       "\n",
       "     url_slug                                         venue        date  \\\n",
       "0   science-1          TASTY Seminar, University of Toronto  2024-02-06   \n",
       "1   science-1                                       AAS 243  2024-01-09   \n",
       "2   science-1                        Yale Cosmology Seminar  2023-10-03   \n",
       "3  outreach-1                    Maria Mitchell Association  2023-07-05   \n",
       "4       dei-1                 European Astronomical Society  2022-07-01   \n",
       "5   science-2  Carnegie Mellon University Cosmology Seminar  2021-10-01   \n",
       "\n",
       "          location  talk_url  description  \n",
       "0  Toronto, Canada       NaN          NaN  \n",
       "1  New Orleans, LA       NaN          NaN  \n",
       "2    New Haven, CT       NaN          NaN  \n",
       "3    Nantucket, MA       NaN          NaN  \n",
       "4  Valencia, Spain       NaN          NaN  \n",
       "5   Pittsburgh, PA       NaN          NaN  "
      ]
     },
     "execution_count": 17,
     "metadata": {},
     "output_type": "execute_result"
    }
   ],
   "source": [
    "talks"
   ]
  },
  {
   "attachments": {},
   "cell_type": "markdown",
   "metadata": {},
   "source": [
    "These files are in the talks directory, one directory below where we're working from."
   ]
  },
  {
   "cell_type": "code",
   "execution_count": 18,
   "metadata": {
    "collapsed": false,
    "deletable": true,
    "editable": true
   },
   "outputs": [
    {
     "name": "stdout",
     "output_type": "stream",
     "text": [
      "2021-10-01-science-2.md  2023-07-05-outreach-1.md 2024-01-09-science-1.md\n",
      "2022-07-01-dei-1.md      2023-10-03-science-1.md  2024-02-06-science-1.md\n"
     ]
    }
   ],
   "source": [
    "!ls ../_talks"
   ]
  },
  {
   "cell_type": "code",
   "execution_count": 19,
   "metadata": {
    "collapsed": false,
    "deletable": true,
    "editable": true
   },
   "outputs": [
    {
     "name": "stdout",
     "output_type": "stream",
     "text": [
      "cat: ../_talks/2013-03-01-tutorial-1.md: No such file or directory\n"
     ]
    }
   ],
   "source": [
    "!cat ../_talks/2013-03-01-tutorial-1.md"
   ]
  },
  {
   "cell_type": "code",
   "execution_count": null,
   "metadata": {},
   "outputs": [],
   "source": []
  }
 ],
 "metadata": {
  "kernelspec": {
   "display_name": "Python 3",
   "language": "python",
   "name": "python3"
  },
  "language_info": {
   "codemirror_mode": {
    "name": "ipython",
    "version": 3
   },
   "file_extension": ".py",
   "mimetype": "text/x-python",
   "name": "python",
   "nbconvert_exporter": "python",
   "pygments_lexer": "ipython3",
   "version": "3.10.8"
  }
 },
 "nbformat": 4,
 "nbformat_minor": 0
}
